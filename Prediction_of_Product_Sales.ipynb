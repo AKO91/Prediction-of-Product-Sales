{
  "nbformat": 4,
  "nbformat_minor": 0,
  "metadata": {
    "colab": {
      "provenance": [],
      "authorship_tag": "ABX9TyPYNkHZFqCAeu+IJJoHX/H5"
    },
    "kernelspec": {
      "name": "python3",
      "display_name": "Python 3"
    },
    "language_info": {
      "name": "python"
    }
  },
  "cells": [
    {
      "cell_type": "markdown",
      "source": [
        "# Prediction of Product Sales Project\n",
        "- Ammar Owaineh"
      ],
      "metadata": {
        "id": "a2wMUOZJOUzS"
      }
    },
    {
      "cell_type": "markdown",
      "source": [
        "## Project Overview"
      ],
      "metadata": {
        "id": "bSyou7gnOr0N"
      }
    },
    {
      "cell_type": "code",
      "execution_count": null,
      "metadata": {
        "id": "UH4JDzsaOK6W"
      },
      "outputs": [],
      "source": []
    },
    {
      "cell_type": "markdown",
      "source": [
        "## Load and Inspect Data\n"
      ],
      "metadata": {
        "id": "r-DTSRaVO3BK"
      }
    },
    {
      "cell_type": "code",
      "source": [],
      "metadata": {
        "id": "t3VGjOQgPLOA"
      },
      "execution_count": null,
      "outputs": []
    },
    {
      "cell_type": "markdown",
      "source": [
        "## Clean Data"
      ],
      "metadata": {
        "id": "E9-sY1ShO8sa"
      }
    },
    {
      "cell_type": "code",
      "source": [],
      "metadata": {
        "id": "R0W79td4PK0Q"
      },
      "execution_count": null,
      "outputs": []
    },
    {
      "cell_type": "markdown",
      "source": [
        "## Exploratory Data Analysis"
      ],
      "metadata": {
        "id": "mNzZ0xRiPBbK"
      }
    },
    {
      "cell_type": "code",
      "source": [],
      "metadata": {
        "id": "lFb1EB4TPKZw"
      },
      "execution_count": null,
      "outputs": []
    },
    {
      "cell_type": "markdown",
      "source": [
        "## Feature Inspection"
      ],
      "metadata": {
        "id": "JVO3ofbrPFwo"
      }
    },
    {
      "cell_type": "code",
      "source": [],
      "metadata": {
        "id": "5hUKhtYqPJ9g"
      },
      "execution_count": null,
      "outputs": []
    }
  ]
}